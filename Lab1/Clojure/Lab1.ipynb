{
 "cells": [
  {
   "cell_type": "code",
   "execution_count": 1,
   "metadata": {},
   "outputs": [
    {
     "data": {
      "text/plain": [
       "#'user/get_cell"
      ]
     },
     "execution_count": 1,
     "metadata": {},
     "output_type": "execute_result"
    }
   ],
   "source": [
    "(defn set_cell [matrix i j el] (update matrix (+ (* 10 i) j) (fn [_] el)))\n",
    "(defn get_cell [matrix i j] (get matrix (+ (* 10 i) j)))"
   ]
  },
  {
   "cell_type": "code",
   "execution_count": 2,
   "metadata": {},
   "outputs": [
    {
     "data": {
      "text/plain": [
       "#'user/rules"
      ]
     },
     "execution_count": 2,
     "metadata": {},
     "output_type": "execute_result"
    }
   ],
   "source": [
    "(def rules \n",
    "    {\"\" \"move_random\"\n",
    "     \"up\" \"move_random\"\n",
    "     \"down\" \"move_random\"\n",
    "     \"left\" \"move_random\"\n",
    "     \"right\" \"move_random\"\n",
    "     \"dirty\" \"suck\"\n",
    "     \"dirtyup\" \"suck\"\n",
    "     \"dirtydown\" \"suck\"\n",
    "     \"dirtyleft\" \"suck\"\n",
    "     \"dirtyright\" \"suck\"\n",
    "     })"
   ]
  },
  {
   "cell_type": "code",
   "execution_count": 3,
   "metadata": {},
   "outputs": [
    {
     "data": {
      "text/plain": [
       "#'user/step"
      ]
     },
     "execution_count": 3,
     "metadata": {},
     "output_type": "execute_result"
    }
   ],
   "source": [
    "(def fields \n",
    "    [\n",
    "        [-1 -1 -1 -1 -1 -1 -1 -1 -1 -1 \n",
    "         -1  0  0  0  0  0  0  0  0 -1 \n",
    "         -1  0  0  0  0  0  0  0  0 -1 \n",
    "         -1  0  0  0  0  0  0  0  0 -1 \n",
    "         -1  0  0  0  0  0  0  0  0 -1\n",
    "         -1  0  0  0  0  0  0  0  0 -1 \n",
    "         -1  0  0  0  0  0  0  0  0 -1 \n",
    "         -1  0  0  0  0  0  0  0  0 -1 \n",
    "         -1  0  0  0  0  0  0  0  0 -1\n",
    "         -1 -1 -1 -1 -1 -1 -1 -1 -1 -1] \n",
    "        \n",
    "        [-1 -1 -1 -1 -1 -1 -1 -1 -1 -1 \n",
    "         -1  0  0  0  0  0  0  0  0 -1 \n",
    "         -1  0 -1 -1 -1 -1 -1 -1  0 -1 \n",
    "         -1  0 -1  0  0  0  0  0  0 -1 \n",
    "         -1  0 -1  0  0  0  0 -1  0 -1\n",
    "         -1  0 -1  0  0  0  0 -1  0 -1 \n",
    "         -1  0 -1  0  0  0  0 -1  0 -1 \n",
    "         -1  0 -1 -1  0 -1 -1 -1  0 -1 \n",
    "         -1  0  0  0  0  0  0  0  0 -1\n",
    "         -1 -1 -1 -1 -1 -1 -1 -1 -1 -1] \n",
    "        \n",
    "        [-1 -1 -1 -1 -1 -1 -1 -1 -1 -1\n",
    "         -1  0 -1  0  0  0 -1  0  0 -1\n",
    "         -1  0 -1  0 -1  0 -1  0  0 -1\n",
    "         -1  0 -1  0 -1  0 -1  0  0 -1\n",
    "         -1  0 -1  0 -1  0 -1  0  0 -1\n",
    "         -1  0 -1  0 -1  0 -1  0  0 -1\n",
    "         -1  0 -1  0 -1  0 -1  0  0 -1\n",
    "         -1  0 -1  0 -1  0 -1  0  0 -1\n",
    "         -1  0  0  0 -1  0  0  0  0 -1\n",
    "         -1 -1 -1 -1 -1 -1 -1 -1 -1 -1]\n",
    "        ])\n",
    "\n",
    "(defn get_random_env [field_index dirt_prob] \n",
    "    {:field (get fields field_index)\n",
    "     :activate_bump \"\"\n",
    "     :agent_x 5\n",
    "     :agent_y 5\n",
    "     :dirt_prob dirt_prob\n",
    "     })\n",
    "(defn is_dirty [env x y] (< 0 (get_cell (:field env) x y)))\n",
    "(defn is_wall [env x y] (= -1 (get_cell (:field env) x y)))\n",
    "(defn get_dirt_level [field] (/ (reduce + (vec (map (fn [e] (if (= e -1) 0 e)) field))) 100))\n",
    "\n",
    "(defn apply_action [env action] \n",
    "    (cond \n",
    "        (not (= (:activate_bump env) \"\"))\n",
    "            (apply_action (update env :activate_bump (fn [_] \"\")) action)\n",
    "        (= action \"suck\")\n",
    "            (cond\n",
    "                (is_dirty env (:agent_x env) (:agent_y env))\n",
    "                (update env \n",
    "                    :field (fn [_] \n",
    "                       (set_cell\n",
    "                           (:field env) \n",
    "                           (:agent_x env) \n",
    "                           (:agent_y env) \n",
    "                               (- (get_cell\n",
    "                                    (:field env) \n",
    "                                    (:agent_x env) \n",
    "                                    (:agent_y env)) 1))))\n",
    "                :else env\n",
    "                )\n",
    "        (= action \"move_up\") \n",
    "            (if (is_wall env (- (:agent_x env) 1) (:agent_y env))\n",
    "                (update env :activate_bump (fn [_] \"up\"))\n",
    "                (update env :agent_x - 1)\n",
    "                )\n",
    "        (= action \"move_down\") \n",
    "            (if (is_wall env (+ (:agent_x env) 1) (:agent_y env))\n",
    "                (update env :activate_bump (fn [_] \"down\"))\n",
    "                (update env :agent_x + 1)\n",
    "                )\n",
    "        (= action \"move_left\") \n",
    "            (if (is_wall env (:agent_x env) (- (:agent_y env) 1))\n",
    "                (update env :activate_bump (fn [_] \"left\"))\n",
    "                (update env :agent_y - 1)\n",
    "                )\n",
    "        (= action \"move_right\") \n",
    "            (if (is_wall env (:agent_x env) (+ (:agent_y env) 1))\n",
    "                (update env :activate_bump (fn [_] \"right\"))\n",
    "                (update env :agent_y + 1)\n",
    "                )\n",
    "        (= action \"idle\") env\n",
    "        ))\n",
    "\n",
    "(defn step [env, ag]\n",
    "    (apply_action\n",
    "        (update env :field (fn [_] (vec (apply list (map #(if (= %1 -1) -1 (+ %1 %2)) (:field env) (vec (apply list (repeatedly 100 (fn [] (if (< (rand) (:dirt_prob env)) 1 0))))))))))\n",
    "         ((:activate_sensors ag) ag (is_dirty env (:agent_x env) (:agent_y env)) (:activate_bump env))))"
   ]
  },
  {
   "cell_type": "code",
   "execution_count": 4,
   "metadata": {},
   "outputs": [
    {
     "data": {
      "text/plain": [
       "#'user/get_reflex_model_agent"
      ]
     },
     "execution_count": 4,
     "metadata": {},
     "output_type": "execute_result"
    }
   ],
   "source": [
    "(defn idle [ag & args] \"idle\")\n",
    "(defn suck [ag & args] \"suck\")\n",
    "(defn move_up [ag & args] \"move_up\")\n",
    "(defn move_down [ag & args] \"move_down\")\n",
    "(defn move_left [ag & args] \"move_left\")\n",
    "(defn move_right [ag & args] \"move_right\")\n",
    "(defn move_random [ag & args] \n",
    "    ((fn f[forb, arr] \n",
    "    ((fn [ch] (if \n",
    "                  (some true? (vec (map (fn [e] (= e (get arr ch))) forb))) \n",
    "                  (f forb arr) \n",
    "                  (get arr ch)\n",
    "                  )) \n",
    "                 (rand-int (count arr)) )\n",
    "    ) (vec (map (fn [e] (str \"move_\" e)) args)) [\"move_left\" \"move_up\" \"move_right\" \"move_down\"]) )\n",
    "\n",
    "(defn get_reflex_agent [rules, init_energy]\n",
    "    {\n",
    "        :rules (apply hash-map (flatten (map (fn [entry] [(first entry) (resolve (symbol (last entry)))]) rules)))\n",
    "        :energy init_energy\n",
    "        :activate_sensors (fn [ag dirty bump] \n",
    "            (cond\n",
    "                (< (:energy ag) 2) \"idle\"\n",
    "                true ((get (:rules ag) (apply str [(if dirty \"dirty\" \"\") bump])) ag)\n",
    "                ))\n",
    "        })\n",
    "\n",
    "(defn get_reflex_model_agent [rules, init_energy]\n",
    "    {\n",
    "        :rules (apply hash-map (flatten (map (fn [entry] [(first entry) (resolve (symbol (last entry)))]) rules)))\n",
    "        :energy init_energy\n",
    "        :last_action \"\"\n",
    "        :activate_sensors (fn [ag dirty bump] \n",
    "            (cond\n",
    "                (< (:energy ag) 2) \"idle\"\n",
    "                true ((get (:rules ag) (apply str [(if dirty \"dirty\" \"\") bump])) ag (clojure.string/replace (:last_action ag) #\"move_\" \"\"))\n",
    "                ))\n",
    "        })"
   ]
  },
  {
   "cell_type": "code",
   "execution_count": 5,
   "metadata": {},
   "outputs": [
    {
     "name": "stdout",
     "output_type": "stream",
     "text": [
      "\"Simple reflex agent and field 0\"\n",
      "[0 0 0 0 0 1/100 1/100 1/100 1/50 1/50 1/50 1/50 1/20 3/50 7/100 7/100 7/100 7/100 7/100 2/25 9/100 9/100 9/100 9/100 9/100 9/100 9/100 9/100 9/100 1/10 1/10 13/100 7/50 7/50 7/50 7/50 3/20 3/20 3/20 3/20 3/20 3/20 3/20 3/20 7/50 3/20 17/100 17/100 17/100 17/100 17/100 9/50 1/5 21/100 21/100 21/100 21/100 21/100 21/100 21/100 21/100 21/100 11/50 23/100 23/100 23/100 23/100 23/100 23/100 23/100 23/100 23/100 23/100 1/4 1/4 1/4 1/4 1/4 13/50 13/50 13/50 13/50 13/50 13/50 13/50 27/100 7/25 7/25 7/25 29/100 29/100 29/100 3/10 29/100 29/100 3/10 8/25 8/25 8/25 8/25]\n",
      "\"Reflex model agent and field 0\"\n",
      "[0 1/100 0 0 1/100 1/100 1/100 1/100 1/50 1/50 1/50 3/100 3/100 3/100 1/25 1/25 1/25 1/20 3/50 3/50 7/100 9/100 9/100 1/10 1/10 1/10 1/10 1/10 1/10 11/100 11/100 11/100 13/100 13/100 13/100 7/50 7/50 7/50 7/50 7/50 7/50 7/50 3/20 3/20 3/20 3/20 3/20 4/25 4/25 4/25 17/100 17/100 17/100 4/25 4/25 4/25 17/100 9/50 17/100 17/100 17/100 17/100 17/100 17/100 17/100 17/100 17/100 17/100 17/100 17/100 17/100 17/100 17/100 17/100 9/50 9/50 9/50 9/50 1/5 21/100 11/50 23/100 23/100 23/100 23/100 11/50 21/100 23/100 6/25 6/25 23/100 23/100 23/100 11/50 11/50 11/50 11/50 11/50 11/50 11/50]\n",
      "\"Simple reflex agent and field 1\"\n",
      "[0 1/50 1/50 1/50 1/50 1/50 1/50 1/50 1/50 3/100 1/25 1/25 1/25 1/20 1/20 1/20 1/20 1/20 1/20 1/20 1/20 1/20 3/50 2/25 2/25 9/100 9/100 9/100 9/100 9/100 9/100 9/100 9/100 1/10 1/10 1/10 1/10 1/10 1/10 1/10 1/10 1/10 1/10 1/10 1/10 11/100 11/100 11/100 11/100 3/25 3/25 11/100 11/100 11/100 11/100 11/100 1/10 1/10 1/10 11/100 11/100 11/100 11/100 11/100 11/100 11/100 3/25 3/25 3/25 3/25 3/25 3/25 11/100 13/100 13/100 7/50 7/50 13/100 13/100 13/100 3/25 11/100 11/100 11/100 11/100 13/100 7/50 3/20 4/25 4/25 3/20 7/50 3/20 17/100 19/100 19/100 19/100 21/100 21/100 21/100]\n",
      "\"Reflex model agent and field 1\"\n",
      "[0 0 1/100 1/100 1/100 1/100 1/100 1/100 1/100 1/100 1/100 1/100 1/50 1/50 1/50 1/50 1/50 1/50 1/50 1/50 1/50 1/50 1/50 1/50 3/100 3/100 3/100 3/100 3/100 3/100 3/100 3/100 3/100 3/100 3/100 3/100 3/100 3/100 3/100 3/100 1/25 1/25 1/25 1/25 1/25 1/20 1/20 1/20 3/50 3/50 3/50 3/50 3/50 7/100 2/25 2/25 2/25 2/25 2/25 2/25 2/25 2/25 2/25 7/100 7/100 7/100 7/100 7/100 7/100 7/100 7/100 7/100 7/100 3/50 3/50 7/100 7/100 7/100 7/100 7/100 7/100 7/100 2/25 2/25 2/25 2/25 9/100 2/25 2/25 2/25 9/100 9/100 9/100 9/100 9/100 9/100 2/25 2/25 2/25 2/25]\n",
      "\"Simple reflex agent and field 2\"\n",
      "[0 0 0 0 0 0 0 0 1/50 1/50 1/50 3/100 3/100 3/100 3/100 3/100 3/100 3/100 3/100 3/100 3/100 1/25 1/25 1/25 1/25 1/25 1/25 1/25 1/25 3/50 3/50 3/50 3/50 7/100 7/100 7/100 7/100 2/25 7/100 7/100 7/100 7/100 7/100 7/100 7/100 7/100 9/100 9/100 9/100 9/100 9/100 2/25 2/25 2/25 7/100 7/100 7/100 7/100 7/100 7/100 7/100 7/100 2/25 2/25 2/25 2/25 9/100 9/100 9/100 1/10 1/10 1/10 1/10 1/10 11/100 11/100 11/100 3/25 3/25 3/25 3/25 3/25 3/25 3/25 3/25 3/25 3/25 3/25 3/25 3/25 3/25 3/25 13/100 13/100 13/100 13/100 13/100 13/100 3/25 3/25]\n",
      "\"Reflex model agent and field 2\"\n",
      "[0 0 0 0 0 1/100 1/100 1/100 1/100 1/100 1/100 1/100 1/100 1/100 1/100 1/100 1/100 1/100 1/100 1/100 1/100 3/100 3/100 3/100 3/100 3/100 3/100 3/100 1/25 1/25 1/25 1/25 1/25 1/25 1/25 1/25 1/25 1/20 3/50 3/50 3/50 7/100 7/100 7/100 2/25 2/25 2/25 9/100 9/100 9/100 11/100 11/100 11/100 11/100 3/25 13/100 3/25 3/25 3/25 3/25 11/100 11/100 11/100 11/100 11/100 11/100 11/100 3/25 13/100 13/100 7/50 7/50 7/50 7/50 7/50 7/50 7/50 7/50 3/20 3/20 3/20 3/20 3/20 3/20 4/25 4/25 4/25 4/25 4/25 9/50 19/100 19/100 19/100 1/5 1/5 1/5 1/5 21/100 21/100 21/100]\n"
     ]
    }
   ],
   "source": [
    "(prn \"Simple reflex agent and field 0\")\n",
    "(def e (get_random_env 0 0.005))\n",
    "(def a (get_reflex_agent rules 2000))\n",
    "(prn (vec (map (fn [_] (first [(get_dirt_level (:field e)) (def e (step e a))]) ) (range 100))))\n",
    "\n",
    "(prn \"Reflex model agent and field 0\")\n",
    "(def e (get_random_env 0 0.005))\n",
    "(def a (get_reflex_model_agent rules 2000))\n",
    "(prn (vec (map (fn [_] (first [(get_dirt_level (:field e)) (def e (step e a))]) ) (range 100))))\n",
    "\n",
    "(prn \"Simple reflex agent and field 1\")\n",
    "(def e (get_random_env 1 0.005))\n",
    "(def a (get_reflex_agent rules 2000))\n",
    "(prn (vec (map (fn [_] (first [(get_dirt_level (:field e)) (def e (step e a))]) ) (range 100))))\n",
    "\n",
    "(prn \"Reflex model agent and field 1\")\n",
    "(def e (get_random_env 1 0.005))\n",
    "(def a (get_reflex_model_agent rules 2000))\n",
    "(prn (vec (map (fn [_] (first [(get_dirt_level (:field e)) (def e (step e a))]) ) (range 100))))\n",
    "\n",
    "(prn \"Simple reflex agent and field 2\")\n",
    "(def e (get_random_env 2 0.005))\n",
    "(def a (get_reflex_agent rules 2000))\n",
    "(prn (vec (map (fn [_] (first [(get_dirt_level (:field e)) (def e (step e a))]) ) (range 100))))\n",
    "\n",
    "(prn \"Reflex model agent and field 2\")\n",
    "(def e (get_random_env 2 0.005))\n",
    "(def a (get_reflex_model_agent rules 2000))\n",
    "(prn (vec (map (fn [_] (first [(get_dirt_level (:field e)) (def e (step e a))]) ) (range 100))))"
   ]
  }
 ],
 "metadata": {
  "kernelspec": {
   "display_name": "Clojure",
   "language": "clojure",
   "name": "clojure"
  },
  "language_info": {
   "file_extension": ".clj",
   "mimetype": "text/x-clojure",
   "name": "clojure",
   "version": "1.8.0"
  }
 },
 "nbformat": 4,
 "nbformat_minor": 2
}
