{
 "cells": [
  {
   "cell_type": "code",
   "execution_count": 1,
   "metadata": {},
   "outputs": [
    {
     "data": {
      "text/plain": [
       "#'user/get_random_state"
      ]
     },
     "execution_count": 1,
     "metadata": {},
     "output_type": "execute_result"
    }
   ],
   "source": [
    "(defn swap [v i1 i2] \n",
    "   (assoc v i2 (v i1) i1 (v i2)))\n",
    "\n",
    "(def goal [8 7 6 5 4 3 2 1 0])\n",
    "\n",
    "(defn move_up [state] \n",
    "    (let [empty_pos (.indexOf state 0)]\n",
    "        (cond\n",
    "            (some #(= empty_pos %) [6 7 8]) nil\n",
    "            :else (swap state empty_pos (+ empty_pos 3))\n",
    "            )\n",
    "        ))\n",
    "(defn move_down [state] \n",
    "    (let [empty_pos (.indexOf state 0)]\n",
    "        (cond\n",
    "            (some #(= empty_pos %) [0 1 2]) nil\n",
    "            :else (swap state empty_pos (- empty_pos 3))\n",
    "            )\n",
    "        ))\n",
    "(defn move_left [state] \n",
    "    (let [empty_pos (.indexOf state 0)]\n",
    "        (cond\n",
    "            (some #(= empty_pos %) [2 5 8]) nil\n",
    "            :else (swap state empty_pos (+ empty_pos 1))\n",
    "            )\n",
    "        ))\n",
    "(defn move_right [state] \n",
    "    (let [empty_pos (.indexOf state 0)]\n",
    "        (cond\n",
    "            (some #(= empty_pos %) [0 3 6]) nil\n",
    "            :else (swap state empty_pos (- empty_pos 1))\n",
    "            )\n",
    "        ))\n",
    "\n",
    "(defn get_successors [state]\n",
    "    (vec (filter (fn [e] (not (nil? e))) [(move_up state) (move_down state) (move_left state) (move_right state)]))\n",
    "    )\n",
    "\n",
    "(defn solved [state]\n",
    "    (= state goal))\n",
    "\n",
    "(defn h1 [state] \n",
    "    (apply + (vec (map (fn [a b] (if (= a b) 0 1)) state goal))))\n",
    "(defn h2 [state] \n",
    "    (apply + (vec (map (fn [a b] (if (> a b) (- a b) (- b a))) state goal))))\n",
    "\n",
    "(defn get_random_state [swaps] \n",
    "    ((fn bfs [initial_state]\n",
    "    ((fn bfs_in [states marked swaps] \n",
    "    (let [worst (apply max-key (fn [s] (- (h1 s))) states)]\n",
    "        (if (= swaps 0) worst \n",
    "            (\n",
    "                let [successors (get_successors worst)] \n",
    "                    (bfs_in\n",
    "                        (vec (filter (fn [e] (every? #(not= e %) marked)) (vec (concat successors (vec (remove (fn [e] (= e worst)) states))))))\n",
    "                        (conj marked worst)\n",
    "                        (- swaps 1)\n",
    "                        )\n",
    "                    \n",
    "                ))\n",
    "        ))\n",
    "    [initial_state] (set '()) swaps)) [8 7 6 5 4 3 2 1 0])\n",
    "    )"
   ]
  },
  {
   "cell_type": "code",
   "execution_count": 2,
   "metadata": {},
   "outputs": [
    {
     "data": {
      "text/plain": [
       "#'user/bfs"
      ]
     },
     "execution_count": 2,
     "metadata": {},
     "output_type": "execute_result"
    }
   ],
   "source": [
    "(defn rbfs [initial_state, h]\n",
    "    ((fn rbfs_in [states marked steps] \n",
    "    (let [best (apply min-key h states)]\n",
    "        (if (solved best) steps \n",
    "            (\n",
    "                let [successors (get_successors best)] \n",
    "                    (rbfs_in\n",
    "                        (vec (filter (fn [e] (every? #(not= e %) marked)) (vec (concat successors (vec (remove (fn [e] (= e best)) states))))))\n",
    "                        (conj marked best)\n",
    "                        (+ 1 steps)\n",
    "                        )\n",
    "                    \n",
    "                ))\n",
    "        ))\n",
    "    [initial_state] (set '()) 0))\n",
    "\n",
    "(defn bfs [initial_state]\n",
    "    ((fn bfs_in [states marked steps] \n",
    "    (let [best (get states 0)]\n",
    "        (if (solved best) steps \n",
    "            (\n",
    "                let [successors (get_successors best)] \n",
    "                    (bfs_in\n",
    "                        (vec (filter (fn [e] (every? #(not= e %) marked)) (vec (concat successors (vec (remove (fn [e] (= e best)) states))))))\n",
    "                        (conj marked best)\n",
    "                        (+ 1 steps)\n",
    "                        )\n",
    "                    \n",
    "                ))\n",
    "        ))\n",
    "    [initial_state] (set '()) 0))"
   ]
  }
 ],
 "metadata": {
  "kernelspec": {
   "display_name": "Clojure",
   "language": "clojure",
   "name": "clojure"
  },
  "language_info": {
   "file_extension": ".clj",
   "mimetype": "text/x-clojure",
   "name": "clojure",
   "version": "1.8.0"
  }
 },
 "nbformat": 4,
 "nbformat_minor": 2
}
